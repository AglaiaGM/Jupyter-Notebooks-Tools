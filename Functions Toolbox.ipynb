{
 "cells": [
  {
   "cell_type": "code",
   "execution_count": 2,
   "metadata": {},
   "outputs": [
    {
     "name": "stdout",
     "output_type": "stream",
     "text": [
      "Using the function raise_power: 4\n",
      "Type of square (defined as raise_val(2)): <class 'function'>\n",
      "Using nested functions: 4\n"
     ]
    }
   ],
   "source": [
    "#Use of nested functions\n",
    "\n",
    "def raise_power(value, power):\n",
    "    \"\"\"Raise value to a power\"\"\"\n",
    "    result = value ** power\n",
    "    return(result)\n",
    "\n",
    "#Instead, it might be useful sometimes to have a nested function\n",
    "def raise_val(power):\n",
    "    \"\"\"Return the inner function\"\"\"\n",
    "    def inner(x):\n",
    "        \"\"\"Raise x to the power\"\"\"\n",
    "        raised = x ** power\n",
    "        return(raised)\n",
    "    return(inner)\n",
    "\n",
    "#Compare the results\n",
    "square_of_two = raise_power(2,2)\n",
    "print(\"Using the function raise_power:\", square_of_two)\n",
    "\n",
    "square = raise_val(2)\n",
    "print(\"Type of square (defined as raise_val(2)):\", type(square))\n",
    "square_of_2 = square(2)\n",
    "print(\"Using nested functions:\", square_of_2)"
   ]
  },
  {
   "cell_type": "code",
   "execution_count": 3,
   "metadata": {},
   "outputs": [],
   "source": [
    "import numpy as np"
   ]
  },
  {
   "cell_type": "code",
   "execution_count": 4,
   "metadata": {},
   "outputs": [
    {
     "name": "stdout",
     "output_type": "stream",
     "text": [
      "Sum of all numbers between 1 and 100: 5050\n",
      "The set of different values (with their number of appearences): {'wizard': 2, 'hobbit': 2}\n"
     ]
    }
   ],
   "source": [
    "#Functions with flexible arguments (using *args)\n",
    "def add_all(*args):\n",
    "    \"\"\"Sum of all values in *args\"\"\"\n",
    "    sum = np.sum(args)\n",
    "    return(sum)\n",
    "\n",
    "print(\"Sum of all numbers between 1 and 100:\", add_all(np.arange(1,101)))\n",
    "\n",
    "#Functions with flexible key word arguments (using **kwargs)\n",
    "def value_count(kwargs):\n",
    "    \"\"\"Calculate the number of different values in kwargs\"\"\"\n",
    "    \n",
    "    value_count = {}\n",
    "    \n",
    "    for key, value in kwargs.items():\n",
    "        if value in value_count.keys():\n",
    "            value_count[value] +=1\n",
    "        else:\n",
    "            value_count[value] = 1\n",
    "    return(value_count)\n",
    "\n",
    "d = {\"Gendalf\": \"wizard\", \"Frodo\": \"hobbit\", \"Sam\": \"hobbit\", \"Saruman\": \"wizard\"}\n",
    "print(\"The set of different values (with their number of appearences):\", value_count(d)) \n",
    "        "
   ]
  },
  {
   "cell_type": "code",
   "execution_count": 5,
   "metadata": {},
   "outputs": [],
   "source": [
    "#Errors and exceptions\n",
    "def sqrt(x):\n",
    "    \"\"\"Return square root of a number\"\"\"\n",
    "    if x<0: \n",
    "        raise ValueError(\"x must be a non-negative number\")\n",
    "    try:\n",
    "        return(x ** 0.5)\n",
    "    except TypeError:\n",
    "        print(\"x must be an integer or a float\")\n",
    "        \n",
    "#print(sqrt(-5))\n",
    "#print(\"\", sqrt(3))"
   ]
  },
  {
   "cell_type": "code",
   "execution_count": 6,
   "metadata": {},
   "outputs": [
    {
     "name": "stdout",
     "output_type": "stream",
     "text": [
      "Square all numbers from the list:  [4, 9, 16, 25]\n",
      "Filter numbers from the list greater than 2: [3, 4, 5]\n",
      "Calculating ((2**3)**4)**5: 1152921504606846976\n"
     ]
    }
   ],
   "source": [
    "#lambda function used in function map\n",
    "nums = [2,3,4,5]\n",
    "square_all = map(lambda num: num ** 2, nums)\n",
    "print(\"Square all numbers from the list: \", list(square_all))\n",
    "\n",
    "\n",
    "#lambda function used in function filter\n",
    "greater_than_2 = filter(lambda num: num>2, nums)\n",
    "print(\"Filter numbers from the list greater than 2:\", list(greater_than_2))\n",
    "\n",
    "#lambda function used in function reduce\n",
    "import functools \n",
    "power_list = functools.reduce(lambda x,y: x ** y, nums)\n",
    "print(\"Calculating ((2**3)**4)**5:\", power_list)"
   ]
  }
 ],
 "metadata": {
  "kernelspec": {
   "display_name": "Python 3",
   "language": "python",
   "name": "python3"
  },
  "language_info": {
   "codemirror_mode": {
    "name": "ipython",
    "version": 3
   },
   "file_extension": ".py",
   "mimetype": "text/x-python",
   "name": "python",
   "nbconvert_exporter": "python",
   "pygments_lexer": "ipython3",
   "version": "3.6.4"
  }
 },
 "nbformat": 4,
 "nbformat_minor": 2
}
