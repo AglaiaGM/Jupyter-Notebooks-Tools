{
 "cells": [
  {
   "cell_type": "markdown",
   "metadata": {},
   "source": [
    "An iterable is an object to which one can apply a FOR loop. Examples: lists, strings, dictionaries, file connections\n",
    "\n",
    "An i\n",
    "terable comes with an associated iter() method transforming it into an iterator. Iterators produce next value with next(). Next() method can applied only once through an iterator. "
   ]
  },
  {
   "cell_type": "code",
   "execution_count": 1,
   "metadata": {},
   "outputs": [
    {
     "name": "stdout",
     "output_type": "stream",
     "text": [
      "D\n",
      "a t a\n",
      "No more values once we ran through an iterator\n"
     ]
    }
   ],
   "source": [
    "word = 'Data'\n",
    "it = iter(word)\n",
    "print(next(it))\n",
    "\n",
    "#Iterating at once with *\n",
    "print(*it)\n",
    "\n",
    "#No more values to go throug\n",
    "print(\"No more values once we ran through an iterator\", *it)"
   ]
  },
  {
   "cell_type": "code",
   "execution_count": 2,
   "metadata": {},
   "outputs": [
    {
     "name": "stdout",
     "output_type": "stream",
     "text": [
      "Woody Allen Annie Hall\n",
      "Charles Chaplin The Great Dictator\n"
     ]
    }
   ],
   "source": [
    "#Iterating over dictionaries: using items()\n",
    "comedies = {'Woody Allen':'Annie Hall', 'Charles Chaplin': 'The Great Dictator'}\n",
    "for key, value in comedies.items():\n",
    "    print(key, value)"
   ]
  },
  {
   "cell_type": "code",
   "execution_count": 3,
   "metadata": {},
   "outputs": [
    {
     "name": "stdout",
     "output_type": "stream",
     "text": [
      "Type of enumerator e: <class 'enumerate'>\n",
      "Enumerator e: [(0, 'France'), (1, 'Italy'), (2, 'Germany')]\n",
      "0 France\n",
      "1 Italy\n",
      "2 Germany\n"
     ]
    }
   ],
   "source": [
    "#Using enumerate()\n",
    "countries = ['France', 'Italy', 'Germany']\n",
    "e = enumerate(countries)\n",
    "print(\"Type of enumerator e:\", type(e))\n",
    "#to see items in enumerator, apply list to it\n",
    "print(\"Enumerator e:\", list(e))\n",
    "\n",
    "#for loop applied to an enumerator \n",
    "#start = 0 indicates that the indexing is from 0, it can be set to any other positive integer\n",
    "for index, value in enumerate(countries, start = 0):\n",
    "    print(index, value)"
   ]
  },
  {
   "cell_type": "code",
   "execution_count": 4,
   "metadata": {},
   "outputs": [
    {
     "name": "stdout",
     "output_type": "stream",
     "text": [
      "Type of the zip object: <class 'zip'>\n",
      "Zip result: [('France', 'Paris'), ('Italy', 'Rome'), ('Germany', 'Berlin')]\n",
      "Unpacked values from zip: ('France', 'Italy', 'Germany') ('Paris', 'Rome', 'Berlin')\n"
     ]
    }
   ],
   "source": [
    "#Using zip() to glue two lists into a list of tuples\n",
    "countries = ['France', 'Italy', 'Germany']\n",
    "capitals = ['Paris', 'Rome', 'Berlin']\n",
    "\n",
    "z = zip(countries, capitals)\n",
    "print(\"Type of the zip object:\", type(z))\n",
    "print(\"Zip result:\", list(z))\n",
    "\n",
    "#unpacking zip\n",
    "z = zip(countries, capitals)\n",
    "z1, z2 = zip(*z)\n",
    "print(\"Unpacked values from zip:\", z1, z2)"
   ]
  },
  {
   "cell_type": "markdown",
   "metadata": {},
   "source": [
    "List comprehensions help to collapse FOR loops for building lists into a single line. Components of list comprehension are: iterable, iterator variable (represent member of iterable), output expression. \n",
    "\n",
    "List comprehensions are used to provide an efficient and compact code. The trade-off however is the code's readibility. "
   ]
  },
  {
   "cell_type": "code",
   "execution_count": 5,
   "metadata": {},
   "outputs": [
    {
     "name": "stdout",
     "output_type": "stream",
     "text": [
      "Example 1: [0, 4, 16, 36, 64]\n",
      "Example 2: [0, 0, 4, 0, 16, 0, 36, 0, 64, 0]\n"
     ]
    }
   ],
   "source": [
    "#A few examples of list comprehensions\n",
    "ex1 = [num **2 for num in range(10) if num % 2 == 0]\n",
    "print(\"Example 1:\", ex1)\n",
    "ex2 = [num ** 2 if num % 2 ==0 else 0 for num in range(10)]\n",
    "print(\"Example 2:\", ex2)"
   ]
  },
  {
   "cell_type": "code",
   "execution_count": 6,
   "metadata": {},
   "outputs": [
    {
     "name": "stdout",
     "output_type": "stream",
     "text": [
      "{0: 0, 1: -1, 2: -2, 3: -3}\n"
     ]
    }
   ],
   "source": [
    "#Dictionaries comprehensions\n",
    "pos_neg = {num: -num for num in range(4)}\n",
    "print(pos_neg)"
   ]
  },
  {
   "cell_type": "markdown",
   "metadata": {},
   "source": [
    "Generators are similar to list comprehensions but use () instead of []. While list comprehensions return a list, generators return a generator object. \n",
    "\n",
    "Generator object does not actually contain all the data assigned to it which is quite useful for large datasets. Instead, as an iterator, generator has a function next() assigned to it. In order to obtain a generator using function syntaxis, \"yield\" keyword is used instead of \"return\""
   ]
  },
  {
   "cell_type": "code",
   "execution_count": 7,
   "metadata": {},
   "outputs": [
    {
     "name": "stdout",
     "output_type": "stream",
     "text": [
      "0\n",
      "2\n"
     ]
    }
   ],
   "source": [
    "#conditional generator\n",
    "even_nums = (num for num in range(10) if num % 2 == 0)\n",
    "print(next(even_nums))\n",
    "print(next(even_nums))"
   ]
  },
  {
   "cell_type": "code",
   "execution_count": 8,
   "metadata": {},
   "outputs": [
    {
     "name": "stdout",
     "output_type": "stream",
     "text": [
      "Type of the num_sequence function output: <class 'generator'>\n",
      "Generator function outputs: 0 1 2\n"
     ]
    }
   ],
   "source": [
    "#generator function\n",
    "def num_sequence(n):\n",
    "    \"\"\"Generate values from 0 to n\"\"\"\n",
    "    i = 0\n",
    "    while i<n:\n",
    "        yield i\n",
    "        i += 1\n",
    "result = num_sequence(5)\n",
    "print(\"Type of the num_sequence function output:\", type(result))\n",
    "print(\"Generator function outputs:\", next(result), next(result), next(result))"
   ]
  }
 ],
 "metadata": {
  "kernelspec": {
   "display_name": "Python 3",
   "language": "python",
   "name": "python3"
  },
  "language_info": {
   "codemirror_mode": {
    "name": "ipython",
    "version": 3
   },
   "file_extension": ".py",
   "mimetype": "text/x-python",
   "name": "python",
   "nbconvert_exporter": "python",
   "pygments_lexer": "ipython3",
   "version": "3.6.4"
  }
 },
 "nbformat": 4,
 "nbformat_minor": 2
}
