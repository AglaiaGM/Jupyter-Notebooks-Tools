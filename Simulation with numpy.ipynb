{
 "cells": [
  {
   "cell_type": "code",
   "execution_count": 1,
   "metadata": {},
   "outputs": [],
   "source": [
    "import numpy as np\n",
    "#syntaxis for drawing samples:\n",
    "#numpy.random.choice(a, size=None, replace=True, p=None)"
   ]
  },
  {
   "cell_type": "markdown",
   "metadata": {},
   "source": [
    "### Random variables simulation using numpy: 4 examples\n",
    "1. Simulate a uniform number between 1 and 6 \n",
    "2. Calculate the odds of getting the same face on a die which is thrown twice\n",
    "3. Birthday paradox: calculate probability of 22 people having the same birthday\n",
    "4. For an urn with 7 black and 6 white balls, calculate the probability of having draw[0]=='w' and draw[2]=='w' and draw[1]=='b' and draw[3]=='b'"
   ]
  },
  {
   "cell_type": "code",
   "execution_count": 2,
   "metadata": {},
   "outputs": [
    {
     "name": "stdout",
     "output_type": "stream",
     "text": [
      "Outcome of the throw: 5\n"
     ]
    }
   ],
   "source": [
    "#Simulation of a random variable is based on the set of possible outcomes, \n",
    "#assigned probabilities and relationship between rv\n",
    "\n",
    "die, probas, throws = [1,2,3,4,5,6], np.ones(6)*1/6, 1\n",
    "outcome = np.random.choice(die, size = throws, p = probas)\n",
    "print(\"Outcome of the throw: {}\".format(outcome[0]))\n"
   ]
  },
  {
   "cell_type": "code",
   "execution_count": 3,
   "metadata": {},
   "outputs": [
    {
     "name": "stdout",
     "output_type": "stream",
     "text": [
      "In 100 games, you win 19 times\n"
     ]
    }
   ],
   "source": [
    "#Calculate the odds of getting the same number on a dice twice in a row\n",
    "\n",
    "die, probas, num_dice = [1,2,3,4,5,6], np.ones(6)*1/6, 2\n",
    "sims, wins = 100, 0\n",
    "\n",
    "for i in range(sims):\n",
    "    outcomes = np.random.choice(die, size = num_dice, p = probas)\n",
    "    #increment wins by 1 if the dice show the same number\n",
    "    if outcomes[0]==outcomes[1]:\n",
    "        wins = wins + 1\n",
    "        \n",
    "print(\"In {} games, you win {} times\".format(sims, wins))"
   ]
  },
  {
   "cell_type": "code",
   "execution_count": 4,
   "metadata": {},
   "outputs": [
    {
     "data": {
      "text/plain": [
       "0.501"
      ]
     },
     "execution_count": 4,
     "metadata": {},
     "output_type": "execute_result"
    }
   ],
   "source": [
    "#Calculate the probability of 22 people in the classroom \n",
    "#to have the same birthday\n",
    "days = np.arange(1, 366)\n",
    "people = 22\n",
    "\n",
    "def birthday_sim(people):\n",
    "    \"\"\"Calculate the probability of 22 people having same birthday\"\"\"\n",
    "    sims, unique_birthday = 1000, 0\n",
    "    for i in range(sims):\n",
    "        #the probability distribution by default is set to uniform\n",
    "        draw = np.random.choice(days, size = people, replace = True)\n",
    "        if len(draw) == len(set(draw)):\n",
    "            unique_birthday += 1\n",
    "    out = 1 - unique_birthday/sims\n",
    "    return out\n",
    "\n",
    "birthday_sim(people)"
   ]
  },
  {
   "cell_type": "code",
   "execution_count": 5,
   "metadata": {},
   "outputs": [],
   "source": [
    "#Given an urn that contains 7 white and 6 black balls, find the probability that for four drawn balls\n",
    "#the first and third balls are white, while the second and the fourth balls are black. "
   ]
  },
  {
   "cell_type": "code",
   "execution_count": 6,
   "metadata": {},
   "outputs": [
    {
     "name": "stdout",
     "output_type": "stream",
     "text": [
      "Probability of success = 0.0694\n"
     ]
    }
   ],
   "source": [
    "# Initialize success, sims and urn\n",
    "success, sims = 0, 5000\n",
    "urn = ['w','w','w','w','w','w','w','b','b','b','b','b','b']\n",
    "\n",
    "for i in range(sims):\n",
    "    # Draw 4 balls without replacement\n",
    "    draw = np.random.choice(urn, replace=False, size=4)\n",
    "    # Count the number of successes\n",
    "    if draw[0]=='w' and draw[2]=='w' and draw[1]=='b' and draw[3]=='b': \n",
    "        success +=1\n",
    "\n",
    "print(\"Probability of success = {}\".format(success/sims))"
   ]
  },
  {
   "cell_type": "markdown",
   "metadata": {},
   "source": [
    "### Resampling methods:\n",
    "1. Bootstrapping (sampling with replacement)\n",
    "2. Juckknife (leave out one or more data points)\n",
    "3. Permutation testing(label switching)"
   ]
  },
  {
   "cell_type": "code",
   "execution_count": 7,
   "metadata": {},
   "outputs": [],
   "source": [
    "#Bootstrapping\n",
    "import statsmodels as sm\n",
    "\n",
    "rsquared_boot, coefs_boot, sims = [], [], 1000\n",
    "\n",
    "def bootstr_regr(df):\n",
    "    \"\"\"Using bootstrap to calculate confidence interval for rsquared\"\"\"\n",
    "    #assume df consists column y (dependent variable) + regressors (including intercept)\n",
    "    # Run 1K iterations\n",
    "    for i in range(sims):\n",
    "        # First create a bootstrap sample with replacement with n=df.shape[0]\n",
    "        bootstrap = df.sample(n=df.shape[0], replace = True)\n",
    "        # Fit the regression and append the r square to rsquared_boot\n",
    "        rsquared_boot.append(sm.OLS(bootstrap['y'],bootstrap.iloc[:,1:]).fit().rsquared)\n",
    "        # Calculate 95% CI on rsquared_boot\n",
    "        r_sq_95_ci = np.percentile(rsquared_boot, [2.5, 97.5])\n",
    "        \n",
    "        return r_sq_95_ci"
   ]
  },
  {
   "cell_type": "markdown",
   "metadata": {},
   "source": [
    "### Monte Carlo integration: $\\pi$"
   ]
  },
  {
   "cell_type": "code",
   "execution_count": 8,
   "metadata": {},
   "outputs": [
    {
     "name": "stdout",
     "output_type": "stream",
     "text": [
      "Simulated value of pi = 3.1272\n"
     ]
    }
   ],
   "source": [
    "# Initialize sims and circle_points\n",
    "sims, circle_points = 10000, 0 \n",
    "\n",
    "for i in range(sims):\n",
    "    # Generate the two coordinates of a point\n",
    "    point = np.random.uniform(-1,1,size = 2)\n",
    "    # if the point lies within the unit circle, increment counter\n",
    "    within_circle = point[0]**2 + point[1]**2 <= 1\n",
    "    if within_circle == True:\n",
    "        circle_points +=1\n",
    "        \n",
    "# Calculating pi using that pi/4 approximately equal to circle_points/sims\n",
    "pi_sim = 4*circle_points/sims\n",
    "print(\"Simulated value of pi = {}\".format(pi_sim))"
   ]
  }
 ],
 "metadata": {
  "kernelspec": {
   "display_name": "Python 3",
   "language": "python",
   "name": "python3"
  },
  "language_info": {
   "codemirror_mode": {
    "name": "ipython",
    "version": 3
   },
   "file_extension": ".py",
   "mimetype": "text/x-python",
   "name": "python",
   "nbconvert_exporter": "python",
   "pygments_lexer": "ipython3",
   "version": "3.6.4"
  }
 },
 "nbformat": 4,
 "nbformat_minor": 2
}
