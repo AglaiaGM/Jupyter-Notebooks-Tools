{
 "cells": [
  {
   "cell_type": "markdown",
   "metadata": {},
   "source": [
    "### Nested functions, functions with flexible arguments (args, kwargs)"
   ]
  },
  {
   "cell_type": "code",
   "execution_count": 1,
   "metadata": {},
   "outputs": [
    {
     "name": "stdout",
     "output_type": "stream",
     "text": [
      "Using the function raise_power: 4\n",
      "Type of square (defined as raise_val(2)): <class 'function'>\n",
      "Using nested functions: 4\n"
     ]
    }
   ],
   "source": [
    "#Use of nested functions\n",
    "\n",
    "def raise_power(value, power):\n",
    "    \"\"\"Raise value to a power\"\"\"\n",
    "    result = value ** power\n",
    "    return(result)\n",
    "\n",
    "#Instead, it might be useful sometimes to have a nested function\n",
    "def raise_val(power):\n",
    "    \"\"\"Return the inner function\"\"\"\n",
    "    def inner(x):\n",
    "        \"\"\"Raise x to the power\"\"\"\n",
    "        raised = x ** power\n",
    "        return(raised)\n",
    "    return(inner)\n",
    "\n",
    "#Compare the results\n",
    "square_of_two = raise_power(2,2)\n",
    "print(\"Using the function raise_power:\", square_of_two)\n",
    "\n",
    "square = raise_val(2)\n",
    "print(\"Type of square (defined as raise_val(2)):\", type(square))\n",
    "square_of_2 = square(2)\n",
    "print(\"Using nested functions:\", square_of_2)"
   ]
  },
  {
   "cell_type": "code",
   "execution_count": 2,
   "metadata": {},
   "outputs": [],
   "source": [
    "import numpy as np"
   ]
  },
  {
   "cell_type": "code",
   "execution_count": 3,
   "metadata": {},
   "outputs": [
    {
     "name": "stdout",
     "output_type": "stream",
     "text": [
      "Sum of all numbers between 1 and 100: 5050\n",
      "The set of different values (with their number of appearences): {'wizard': 2, 'hobbit': 2}\n"
     ]
    }
   ],
   "source": [
    "#Functions with flexible arguments (using *args)\n",
    "def add_all(*args):\n",
    "    \"\"\"Sum of all values in *args\"\"\"\n",
    "    sum = np.sum(args)\n",
    "    return(sum)\n",
    "\n",
    "print(\"Sum of all numbers between 1 and 100:\", add_all(np.arange(1,101)))\n",
    "\n",
    "#Functions with flexible key word arguments (using **kwargs)\n",
    "def value_count(kwargs):\n",
    "    \"\"\"Calculate the number of different values in kwargs\"\"\"\n",
    "    \n",
    "    value_count = {}\n",
    "    \n",
    "    for key, value in kwargs.items():\n",
    "        if value in value_count.keys():\n",
    "            value_count[value] +=1\n",
    "        else:\n",
    "            value_count[value] = 1\n",
    "    return(value_count)\n",
    "\n",
    "d = {\"Gendalf\": \"wizard\", \"Frodo\": \"hobbit\", \"Sam\": \"hobbit\", \"Saruman\": \"wizard\"}\n",
    "print(\"The set of different values (with their number of appearences):\", value_count(d)) \n",
    "        "
   ]
  },
  {
   "cell_type": "code",
   "execution_count": 4,
   "metadata": {},
   "outputs": [],
   "source": [
    "#Errors and exceptions\n",
    "def sqrt(x):\n",
    "    \"\"\"Return square root of a number\"\"\"\n",
    "    if x<0: \n",
    "        raise ValueError(\"x must be a non-negative number\")\n",
    "    try:\n",
    "        return(x ** 0.5)\n",
    "    except TypeError:\n",
    "        print(\"x must be an integer or a float\")\n",
    "        \n",
    "#print(sqrt(-5))\n",
    "#print(\"\", sqrt(3))"
   ]
  },
  {
   "cell_type": "markdown",
   "metadata": {},
   "source": [
    "### Use of lambda functions in map, filter and reduce"
   ]
  },
  {
   "cell_type": "code",
   "execution_count": 5,
   "metadata": {},
   "outputs": [
    {
     "name": "stdout",
     "output_type": "stream",
     "text": [
      "Square all numbers from the list:  [4, 9, 16, 25]\n",
      "Filter numbers from the list greater than 2: [3, 4, 5]\n",
      "Calculating ((2**3)**4)**5: 1152921504606846976\n"
     ]
    }
   ],
   "source": [
    "#lambda function used in function map\n",
    "nums = [2,3,4,5]\n",
    "square_all = map(lambda num: num ** 2, nums)\n",
    "print(\"Square all numbers from the list: \", list(square_all))\n",
    "\n",
    "\n",
    "#lambda function used in function filter\n",
    "greater_than_2 = filter(lambda num: num>2, nums)\n",
    "print(\"Filter numbers from the list greater than 2:\", list(greater_than_2))\n",
    "\n",
    "#lambda function used in function reduce\n",
    "import functools \n",
    "power_list = functools.reduce(lambda x,y: x ** y, nums)\n",
    "print(\"Calculating ((2**3)**4)**5:\", power_list)"
   ]
  },
  {
   "cell_type": "markdown",
   "metadata": {},
   "source": [
    "### Decorators \n",
    "\n",
    "Decorators use the following notions:\n",
    "- Nested functions\n",
    "- Nonlocal scope\n",
    "- Closures\n",
    "\n",
    "We will remind/describe all of these notions below."
   ]
  },
  {
   "cell_type": "code",
   "execution_count": 6,
   "metadata": {},
   "outputs": [
    {
     "name": "stdout",
     "output_type": "stream",
     "text": [
      "This is a sentence\n"
     ]
    }
   ],
   "source": [
    "#Back to nested functions: functions as return values\n",
    "def get_function():\n",
    "    def print_me(s):\n",
    "        print(s)\n",
    "    return print_me\n",
    "\n",
    "new_func = get_function()\n",
    "type(new_func)\n",
    "\n",
    "new_func(\"This is a sentence\")"
   ]
  },
  {
   "cell_type": "markdown",
   "metadata": {},
   "source": [
    "Scope varies as follows: Local $\\subset$ Nonlocal $\\subset$ Global $\\subset$ Builtin\n",
    "\n",
    "In order to specify (e.g. within a function), that a variable is global, one uses \"global x\" keyword. For non-local variables (in case of nested function), one uses \"nonlocal x\" keyword. \n",
    "\n",
    "In case of nested functions, non-local variables are saved in the closure of the inner function. An example is shown below. "
   ]
  },
  {
   "cell_type": "code",
   "execution_count": 7,
   "metadata": {},
   "outputs": [
    {
     "name": "stdout",
     "output_type": "stream",
     "text": [
      "True\n",
      "[2, 17]\n"
     ]
    }
   ],
   "source": [
    "def return_a_func(arg1, arg2):\n",
    "  def new_func():\n",
    "    print('arg1 was {}'.format(arg1))\n",
    "    print('arg2 was {}'.format(arg2))\n",
    "  return new_func\n",
    "    \n",
    "my_func = return_a_func(2, 17)\n",
    "\n",
    "# Show that my_func()'s closure is not None\n",
    "print(my_func.__closure__ is not None)\n",
    "print([cell.cell_contents for cell in my_func.__closure__])"
   ]
  },
  {
   "cell_type": "markdown",
   "metadata": {},
   "source": [
    "Decorators take as an input a function and outputs a possibly modified function. "
   ]
  },
  {
   "cell_type": "code",
   "execution_count": 8,
   "metadata": {},
   "outputs": [
    {
     "name": "stdout",
     "output_type": "stream",
     "text": [
      "Type of double_args(multiply):  <class 'function'>\n"
     ]
    },
    {
     "data": {
      "text/plain": [
       "20"
      ]
     },
     "execution_count": 8,
     "metadata": {},
     "output_type": "execute_result"
    }
   ],
   "source": [
    "#Decorator syntax\n",
    "def double_args(func):\n",
    "    def wrapper(a,b):\n",
    "        return func(a*2, b*2)\n",
    "    return wrapper\n",
    "\n",
    "#we will apply the above decorater to the multiply function\n",
    "def multiply(a,b):\n",
    "    return a*b\n",
    "\n",
    "multiply = double_args(multiply)\n",
    "print(\"Type of double_args(multiply): \", type(multiply))\n",
    "multiply(1,5)"
   ]
  },
  {
   "cell_type": "code",
   "execution_count": 9,
   "metadata": {},
   "outputs": [
    {
     "data": {
      "text/plain": [
       "20"
      ]
     },
     "execution_count": 9,
     "metadata": {},
     "output_type": "execute_result"
    }
   ],
   "source": [
    "#Alternative decorator syntax\n",
    "@double_args\n",
    "def multiply(a,b):\n",
    "    return a*b\n",
    "\n",
    "multiply(1,5)"
   ]
  },
  {
   "cell_type": "code",
   "execution_count": 10,
   "metadata": {},
   "outputs": [
    {
     "name": "stdout",
     "output_type": "stream",
     "text": [
      "calling foo()\n",
      "calling foo()\n",
      "foo() was called 2 times.\n"
     ]
    }
   ],
   "source": [
    "def counter(func):\n",
    "  def wrapper(*args, **kwargs):\n",
    "    wrapper.count += 1\n",
    "    # Call the function being decorated and return the result\n",
    "    return func(*args, **kwargs)\n",
    "  wrapper.count = 0\n",
    "  # Return the new decorated function\n",
    "  return wrapper\n",
    "\n",
    "# Decorate foo() with the counter() decorator\n",
    "@counter\n",
    "def foo():\n",
    "  print('calling foo()')\n",
    "  \n",
    "foo()\n",
    "foo()\n",
    "\n",
    "print('foo() was called {} times.'.format(foo.count))"
   ]
  }
 ],
 "metadata": {
  "kernelspec": {
   "display_name": "Python 3",
   "language": "python",
   "name": "python3"
  },
  "language_info": {
   "codemirror_mode": {
    "name": "ipython",
    "version": 3
   },
   "file_extension": ".py",
   "mimetype": "text/x-python",
   "name": "python",
   "nbconvert_exporter": "python",
   "pygments_lexer": "ipython3",
   "version": "3.6.4"
  }
 },
 "nbformat": 4,
 "nbformat_minor": 2
}
