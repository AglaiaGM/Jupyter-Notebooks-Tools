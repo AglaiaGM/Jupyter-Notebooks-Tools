{
 "cells": [
  {
   "cell_type": "markdown",
   "metadata": {},
   "source": [
    "## Basics of classes: definition and inheritance"
   ]
  },
  {
   "cell_type": "code",
   "execution_count": 1,
   "metadata": {},
   "outputs": [
    {
     "name": "stdout",
     "output_type": "stream",
     "text": [
      "[1, 2, 3, 4, 5]\n",
      "\n",
      "\n",
      "3.0\n"
     ]
    }
   ],
   "source": [
    "#Create the first class\n",
    "\n",
    "# Create a class Data Shell with two methods: show and avg\n",
    "class DataShell:\n",
    "    \n",
    "    #initialize class with self, identifier and data arguments\n",
    "    def __init__(self, dataList):\n",
    "        \"\"\" Set data as instance variables, \n",
    "        assigning value of input arguments\"\"\"\n",
    "        \n",
    "        self.data = dataList\n",
    "    \n",
    "    #defined method which prints data\n",
    "    def show(self):\n",
    "        print(self.data)\n",
    "    \n",
    "    #define method which prints average of data\n",
    "    def avg(self):\n",
    "        #declare avg \n",
    "        avg = sum(self.data)/len(self.data)\n",
    "        print(avg)\n",
    "    \n",
    "\n",
    "d_list = [1,2,3,4,5]\n",
    "\n",
    "#instantiate DataShell object (object is an instance of a class)\n",
    "my_data_shell = DataShell(d_list)\n",
    "\n",
    "#printing the output of methods\n",
    "my_data_shell.show()\n",
    "print(\"\\n\")\n",
    "my_data_shell.avg()"
   ]
  },
  {
   "cell_type": "code",
   "execution_count": 2,
   "metadata": {},
   "outputs": [
    {
     "name": "stdout",
     "output_type": "stream",
     "text": [
      "Stella Spinal cord: True\n",
      "Stella temperature regulation: False\n",
      "Daisy Spinal cord: True\n",
      "Daisy temperature regulation: True\n"
     ]
    }
   ],
   "source": [
    "#Create the first inheritance example: Vertebrates\n",
    "\n",
    "# Create a class Vertebrate\n",
    "class Vertebrate():\n",
    "    spinal_cord = True\n",
    "    def __init__(self, name):\n",
    "        self.name = name\n",
    "\n",
    "# Create a class Mammal, which inherits from Vertebrate\n",
    "class Mammal(Vertebrate):\n",
    "    def __init__(self, name, animal_type):\n",
    "        self.animal_type = animal_type\n",
    "        self.temperature_regulation = True\n",
    "\n",
    "# Create a class Reptile, which also inherits from Vertebrate\n",
    "class Reptile(Vertebrate):\n",
    "    def __init__(self, name, animal_type):\n",
    "        self.animal_type = animal_type\n",
    "        self.temperature_regulation = False\n",
    "\n",
    "# Instantiate a mammal with name 'Daisy' and animal_type 'dog': daisy\n",
    "daisy = Mammal('Daisy', 'dog')\n",
    "\n",
    "# Instantiate a reptile with name 'Stella' and animal_type 'alligator': stella\n",
    "stella = Reptile('Stella', 'alligator')\n",
    "\n",
    "# Print stella's attributes spinal_cord and temperature_regulation\n",
    "print(\"Stella Spinal cord: \" + str(stella.spinal_cord))\n",
    "print(\"Stella temperature regulation: \" + str(stella.temperature_regulation))\n",
    "\n",
    "# Print daisy's attributes spinal_cord and temperature_regulation\n",
    "print(\"Daisy Spinal cord: \" + str(daisy.spinal_cord))\n",
    "print(\"Daisy temperature regulation: \" + str(daisy.temperature_regulation))"
   ]
  }
 ],
 "metadata": {
  "kernelspec": {
   "display_name": "Python 3",
   "language": "python",
   "name": "python3"
  },
  "language_info": {
   "codemirror_mode": {
    "name": "ipython",
    "version": 3
   },
   "file_extension": ".py",
   "mimetype": "text/x-python",
   "name": "python",
   "nbconvert_exporter": "python",
   "pygments_lexer": "ipython3",
   "version": "3.6.4"
  }
 },
 "nbformat": 4,
 "nbformat_minor": 2
}
